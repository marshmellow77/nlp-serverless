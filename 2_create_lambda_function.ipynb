{
 "cells": [
  {
   "cell_type": "code",
   "execution_count": 7,
   "metadata": {},
   "outputs": [],
   "source": [
    "import boto3\n",
    "import json"
   ]
  },
  {
   "cell_type": "code",
   "execution_count": 3,
   "metadata": {},
   "outputs": [],
   "source": [
    "iam_client = boto3.client('iam')"
   ]
  },
  {
   "cell_type": "code",
   "execution_count": 11,
   "metadata": {},
   "outputs": [],
   "source": [
    "role_policy = {\n",
    "  \"Version\": \"2012-10-17\",\n",
    "  \"Statement\": [\n",
    "    {\n",
    "      \"Sid\": \"\",\n",
    "      \"Effect\": \"Allow\",\n",
    "      \"Principal\": {\n",
    "        \"Service\": \"lambda.amazonaws.com\"\n",
    "      },\n",
    "      \"Action\": \"sts:AssumeRole\"\n",
    "    }\n",
    "  ]\n",
    "}"
   ]
  },
  {
   "cell_type": "code",
   "execution_count": 12,
   "metadata": {},
   "outputs": [
    {
     "data": {
      "text/plain": [
       "{'Role': {'Path': '/',\n",
       "  'RoleName': 'LambdaHFServerless',\n",
       "  'RoleId': 'AROA5F2FWVYHXEZSKWXAR',\n",
       "  'Arn': 'arn:aws:iam::905847418383:role/LambdaHFServerless',\n",
       "  'CreateDate': datetime.datetime(2021, 12, 23, 15, 57, 42, tzinfo=tzlocal()),\n",
       "  'AssumeRolePolicyDocument': {'Version': '2012-10-17',\n",
       "   'Statement': [{'Sid': '',\n",
       "     'Effect': 'Allow',\n",
       "     'Principal': {'Service': 'lambda.amazonaws.com'},\n",
       "     'Action': 'sts:AssumeRole'}]}},\n",
       " 'ResponseMetadata': {'RequestId': '62de039f-8279-4d0e-9eb7-46fca0e6eda3',\n",
       "  'HTTPStatusCode': 200,\n",
       "  'HTTPHeaders': {'x-amzn-requestid': '62de039f-8279-4d0e-9eb7-46fca0e6eda3',\n",
       "   'content-type': 'text/xml',\n",
       "   'content-length': '817',\n",
       "   'date': 'Thu, 23 Dec 2021 15:57:42 GMT'},\n",
       "  'RetryAttempts': 0}}"
      ]
     },
     "execution_count": 12,
     "metadata": {},
     "output_type": "execute_result"
    }
   ],
   "source": [
    "iam_client.create_role(\n",
    "  RoleName='LambdaHFServerless',\n",
    "  AssumeRolePolicyDocument=json.dumps(role_policy),\n",
    ")"
   ]
  },
  {
   "cell_type": "code",
   "execution_count": 41,
   "metadata": {},
   "outputs": [
    {
     "data": {
      "text/plain": [
       "{'ResponseMetadata': {'RequestId': 'dafd522a-6a90-4a7a-8be2-8471b888e9a7',\n",
       "  'HTTPStatusCode': 200,\n",
       "  'HTTPHeaders': {'x-amzn-requestid': 'dafd522a-6a90-4a7a-8be2-8471b888e9a7',\n",
       "   'content-type': 'text/xml',\n",
       "   'content-length': '212',\n",
       "   'date': 'Thu, 23 Dec 2021 16:32:30 GMT'},\n",
       "  'RetryAttempts': 0}}"
      ]
     },
     "execution_count": 41,
     "metadata": {},
     "output_type": "execute_result"
    }
   ],
   "source": [
    "iam_client.attach_role_policy(RoleName='LambdaHFServerless', PolicyArn='arn:aws:iam::aws:policy/AmazonSageMakerFullAccess')"
   ]
  },
  {
   "cell_type": "code",
   "execution_count": 42,
   "metadata": {},
   "outputs": [],
   "source": [
    "endpoint_name = \"hf-serverless-ep2021-12-23-10-42-53\"\n",
    "\n",
    "lambda_code = f\"\"\"\n",
    "import os\n",
    "import io\n",
    "import boto3\n",
    "import json\n",
    "import csv\n",
    "\n",
    "\n",
    "ENDPOINT_NAME = \"{endpoint_name}\"\n",
    "runtime= boto3.client('runtime.sagemaker')\n",
    "\n",
    "def lambda_handler(event, context):\n",
    "    response = runtime.invoke_endpoint(EndpointName=ENDPOINT_NAME,\n",
    "                                       ContentType='application/json',\n",
    "                                       Body=json.dumps(event, indent=4))\n",
    "    result = json.loads(response['Body'].read().decode())\n",
    "    pred = result[0]['label']\n",
    "\n",
    "    return pred\n",
    "\"\"\""
   ]
  },
  {
   "cell_type": "code",
   "execution_count": 44,
   "metadata": {},
   "outputs": [],
   "source": [
    "filename = \"lambda\""
   ]
  },
  {
   "cell_type": "code",
   "execution_count": 45,
   "metadata": {},
   "outputs": [],
   "source": [
    "with open(f\"{filename}.py\", \"w\") as f:\n",
    "    f.write(lambda_code)"
   ]
  },
  {
   "cell_type": "code",
   "execution_count": 46,
   "metadata": {},
   "outputs": [],
   "source": [
    "from zipfile import ZipFile"
   ]
  },
  {
   "cell_type": "code",
   "execution_count": 47,
   "metadata": {},
   "outputs": [],
   "source": [
    "with ZipFile('lambda.zip', 'w') as myzip:\n",
    "    myzip.write('lambda.py')"
   ]
  },
  {
   "cell_type": "code",
   "execution_count": 48,
   "metadata": {},
   "outputs": [],
   "source": [
    "lambda_client = boto3.client('lambda')\n",
    "\n",
    "with open('lambda.zip', 'rb') as f:\n",
    "    zipped_code = f.read()\n",
    "  \n",
    "role = iam_client.get_role(RoleName='LambdaHFServerless')\n",
    "\n",
    "response = lambda_client.create_function(\n",
    "    FunctionName='HFServerlessLambda',\n",
    "    Runtime='python3.9',\n",
    "    Role=role['Role']['Arn'],\n",
    "    Handler=f'{filename}.lambda_handler',\n",
    "    Code=dict(ZipFile=zipped_code),\n",
    "    Timeout=300,\n",
    ")"
   ]
  },
  {
   "cell_type": "code",
   "execution_count": 49,
   "metadata": {},
   "outputs": [],
   "source": [
    "payload = {\n",
    "  \"inputs\": \"This is a great test\"\n",
    "}"
   ]
  },
  {
   "cell_type": "code",
   "execution_count": null,
   "metadata": {},
   "outputs": [],
   "source": [
    "response = lambda_client.invoke(FunctionName   = \"HFServerlessLambda\",\n",
    "                InvocationType = \"RequestResponse\",\n",
    "                Payload        = bytes(json.dumps(payload), encoding='utf8'))"
   ]
  },
  {
   "cell_type": "code",
   "execution_count": 55,
   "metadata": {},
   "outputs": [
    {
     "data": {
      "text/plain": [
       "'LABEL_1'"
      ]
     },
     "execution_count": 55,
     "metadata": {},
     "output_type": "execute_result"
    }
   ],
   "source": [
    "json.loads(response['Payload'].read())"
   ]
  },
  {
   "cell_type": "code",
   "execution_count": null,
   "metadata": {},
   "outputs": [],
   "source": []
  }
 ],
 "metadata": {
  "instance_type": "ml.t3.medium",
  "kernelspec": {
   "display_name": "Python 3 (Data Science)",
   "language": "python",
   "name": "python3__SAGEMAKER_INTERNAL__arn:aws:sagemaker:us-east-1:081325390199:image/datascience-1.0"
  },
  "language_info": {
   "codemirror_mode": {
    "name": "ipython",
    "version": 3
   },
   "file_extension": ".py",
   "mimetype": "text/x-python",
   "name": "python",
   "nbconvert_exporter": "python",
   "pygments_lexer": "ipython3",
   "version": "3.7.10"
  }
 },
 "nbformat": 4,
 "nbformat_minor": 4
}
