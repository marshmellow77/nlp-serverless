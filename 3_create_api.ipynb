{
 "cells": [
  {
   "cell_type": "code",
   "execution_count": 2,
   "metadata": {},
   "outputs": [],
   "source": [
    "import boto3"
   ]
  },
  {
   "cell_type": "code",
   "execution_count": 3,
   "metadata": {},
   "outputs": [],
   "source": [
    "api_client = boto3.client('apigateway')"
   ]
  },
  {
   "cell_type": "code",
   "execution_count": 4,
   "metadata": {},
   "outputs": [],
   "source": [
    "rest_api = api_client.create_rest_api(\n",
    "    name='HFServerlessAPI'\n",
    ")"
   ]
  },
  {
   "cell_type": "code",
   "execution_count": 5,
   "metadata": {},
   "outputs": [
    {
     "data": {
      "text/plain": [
       "'zh182u0yi5'"
      ]
     },
     "execution_count": 5,
     "metadata": {},
     "output_type": "execute_result"
    }
   ],
   "source": [
    "rest_api_id = rest_api[\"id\"]\n",
    "rest_api_id"
   ]
  },
  {
   "cell_type": "code",
   "execution_count": 6,
   "metadata": {},
   "outputs": [
    {
     "data": {
      "text/plain": [
       "'w9kcmr69hg'"
      ]
     },
     "execution_count": 6,
     "metadata": {},
     "output_type": "execute_result"
    }
   ],
   "source": [
    "root_resource_id = api_client.get_resources(\n",
    "    restApiId=rest_api_id\n",
    ")['items'][0]['id']\n",
    "root_resource_id"
   ]
  },
  {
   "cell_type": "code",
   "execution_count": 8,
   "metadata": {},
   "outputs": [],
   "source": [
    "api_resource = api_client.create_resource(\n",
    "    restApiId=rest_api_id,\n",
    "    parentId=root_resource_id,\n",
    "    pathPart='hf-api-resource'\n",
    ")"
   ]
  },
  {
   "cell_type": "code",
   "execution_count": 9,
   "metadata": {},
   "outputs": [
    {
     "data": {
      "text/plain": [
       "'ph02er'"
      ]
     },
     "execution_count": 9,
     "metadata": {},
     "output_type": "execute_result"
    }
   ],
   "source": [
    "api_resource_id = api_resource['id']\n",
    "api_resource_id"
   ]
  },
  {
   "cell_type": "code",
   "execution_count": 10,
   "metadata": {},
   "outputs": [],
   "source": [
    "api_method = api_client.put_method(\n",
    "    restApiId=rest_api_id,\n",
    "    resourceId=api_resource_id,\n",
    "    httpMethod='POST',\n",
    "    authorizationType='NONE',\n",
    "    requestParameters={\n",
    "        'method.request.querystring.greeter': False\n",
    "    }\n",
    ")"
   ]
  },
  {
   "cell_type": "code",
   "execution_count": 11,
   "metadata": {},
   "outputs": [],
   "source": [
    "put_method_res = api_client.put_method_response(\n",
    "    restApiId=rest_api_id,\n",
    "    resourceId=api_resource_id,\n",
    "    httpMethod='POST',\n",
    "    statusCode='200'\n",
    ")"
   ]
  },
  {
   "cell_type": "code",
   "execution_count": 19,
   "metadata": {},
   "outputs": [],
   "source": [
    "arn_uri=\"arn:aws:apigateway:us-east-1:lambda:path/2015-03-31/functions/arn:aws:lambda:us-east-1:905847418383:function:HFServerlessLambda/invocations\"\n",
    "api_integration = api_client.put_integration(\n",
    "    restApiId=rest_api_id,\n",
    "    resourceId=api_resource_id,\n",
    "    httpMethod='POST',\n",
    "    type='AWS',\n",
    "    integrationHttpMethod='POST',\n",
    "    uri=arn_uri,\n",
    ")"
   ]
  },
  {
   "cell_type": "code",
   "execution_count": 21,
   "metadata": {},
   "outputs": [],
   "source": [
    "put_integration_response = api_client.put_integration_response(\n",
    "    restApiId=rest_api_id,\n",
    "    resourceId=api_resource_id,\n",
    "    httpMethod='POST',\n",
    "    statusCode='200',\n",
    "    selectionPattern=''\n",
    ")"
   ]
  },
  {
   "cell_type": "code",
   "execution_count": 22,
   "metadata": {},
   "outputs": [],
   "source": [
    "deployment = api_client.create_deployment(\n",
    "    restApiId=rest_api_id,\n",
    "    stageName='dev',\n",
    ")"
   ]
  },
  {
   "cell_type": "code",
   "execution_count": null,
   "metadata": {},
   "outputs": [],
   "source": []
  }
 ],
 "metadata": {
  "instance_type": "ml.t3.medium",
  "kernelspec": {
   "display_name": "Python 3 (Data Science)",
   "language": "python",
   "name": "python3__SAGEMAKER_INTERNAL__arn:aws:sagemaker:us-east-1:081325390199:image/datascience-1.0"
  },
  "language_info": {
   "codemirror_mode": {
    "name": "ipython",
    "version": 3
   },
   "file_extension": ".py",
   "mimetype": "text/x-python",
   "name": "python",
   "nbconvert_exporter": "python",
   "pygments_lexer": "ipython3",
   "version": "3.7.10"
  }
 },
 "nbformat": 4,
 "nbformat_minor": 4
}
