{
 "cells": [
  {
   "cell_type": "code",
   "execution_count": 63,
   "metadata": {},
   "outputs": [],
   "source": [
    "import boto3"
   ]
  },
  {
   "cell_type": "code",
   "execution_count": 77,
   "metadata": {},
   "outputs": [],
   "source": [
    "api_client = boto3.client('apigatewayv2')"
   ]
  },
  {
   "cell_type": "code",
   "execution_count": 78,
   "metadata": {},
   "outputs": [
    {
     "name": "stdout",
     "output_type": "stream",
     "text": [
      "{'ResponseMetadata': {'RequestId': 'a81614bc-2ac5-4039-83d8-62ad28a775b4', 'HTTPStatusCode': 201, 'HTTPHeaders': {'date': 'Tue, 11 Jan 2022 15:43:26 GMT', 'content-type': 'application/json', 'content-length': '328', 'connection': 'keep-alive', 'x-amzn-requestid': 'a81614bc-2ac5-4039-83d8-62ad28a775b4', 'access-control-allow-origin': '*', 'x-amz-apigw-id': 'LybQsGrWIAMF8pQ=', 'access-control-expose-headers': 'x-amzn-RequestId,x-amzn-ErrorType,x-amzn-ErrorMessage,Date', 'x-amzn-trace-id': 'Root=1-61dda59d-445db7751302d0172253b4b7'}, 'RetryAttempts': 0}, 'ApiEndpoint': 'https://nluf71yp14.execute-api.us-east-1.amazonaws.com', 'ApiId': 'nluf71yp14', 'ApiKeySelectionExpression': '$request.header.x-api-key', 'CreatedDate': datetime.datetime(2022, 1, 11, 15, 43, 26, tzinfo=tzlocal()), 'DisableExecuteApiEndpoint': False, 'Name': 'HFServerlessHTTP8', 'ProtocolType': 'HTTP', 'RouteSelectionExpression': '$request.method $request.path'}\n"
     ]
    }
   ],
   "source": [
    "response = api_client.create_api(\n",
    "    Name='HFServerlessHTTP8',\n",
    "    ProtocolType='HTTP',\n",
    "    Target='arn:aws:lambda:us-east-1:905847418383:function:invoke-hf-sentiment-model',\n",
    "    RouteKey='ANY /test',\n",
    ")\n",
    "\n",
    "print(response)"
   ]
  },
  {
   "cell_type": "code",
   "execution_count": 80,
   "metadata": {},
   "outputs": [
    {
     "data": {
      "text/plain": [
       "'nluf71yp14'"
      ]
     },
     "execution_count": 80,
     "metadata": {},
     "output_type": "execute_result"
    }
   ],
   "source": [
    "api_id = response['ApiId']\n",
    "api_id"
   ]
  },
  {
   "cell_type": "code",
   "execution_count": 81,
   "metadata": {},
   "outputs": [],
   "source": [
    "lambda_client = boto3.client('lambda')"
   ]
  },
  {
   "cell_type": "code",
   "execution_count": 82,
   "metadata": {},
   "outputs": [
    {
     "data": {
      "text/plain": [
       "{'ResponseMetadata': {'RequestId': 'b72e2375-5050-4bc9-92ed-1ab396d32ac7',\n",
       "  'HTTPStatusCode': 201,\n",
       "  'HTTPHeaders': {'date': 'Tue, 11 Jan 2022 15:44:26 GMT',\n",
       "   'content-type': 'application/json',\n",
       "   'content-length': '364',\n",
       "   'connection': 'keep-alive',\n",
       "   'x-amzn-requestid': 'b72e2375-5050-4bc9-92ed-1ab396d32ac7'},\n",
       "  'RetryAttempts': 0},\n",
       " 'Statement': '{\"Sid\":\"MyStatementId8\",\"Effect\":\"Allow\",\"Principal\":{\"Service\":\"apigateway.amazonaws.com\"},\"Action\":\"lambda:InvokeFunction\",\"Resource\":\"arn:aws:lambda:us-east-1:905847418383:function:invoke-hf-sentiment-model\",\"Condition\":{\"ArnLike\":{\"AWS:SourceArn\":\"arn:aws:execute-api:us-east-1:905847418383:nluf71yp14/*/*/test\"}}}'}"
      ]
     },
     "execution_count": 82,
     "metadata": {},
     "output_type": "execute_result"
    }
   ],
   "source": [
    "lambda_client.add_permission(\n",
    "    FunctionName='invoke-hf-sentiment-model',\n",
    "    StatementId='MyStatementId8',\n",
    "    Action='lambda:InvokeFunction',\n",
    "    Principal='apigateway.amazonaws.com',\n",
    "    SourceArn=f'arn:aws:execute-api:us-east-1:905847418383:{api_id}/*/*/test',\n",
    ")"
   ]
  },
  {
   "cell_type": "code",
   "execution_count": 83,
   "metadata": {},
   "outputs": [],
   "source": [
    "import requests"
   ]
  },
  {
   "cell_type": "code",
   "execution_count": 95,
   "metadata": {},
   "outputs": [
    {
     "data": {
      "text/plain": [
       "'LABEL_1'"
      ]
     },
     "execution_count": 95,
     "metadata": {},
     "output_type": "execute_result"
    }
   ],
   "source": [
    "url = f'https://{api_id}.execute-api.us-east-1.amazonaws.com/test'\n",
    "data = r'This is a great test'\n",
    "\n",
    "response = requests.post(url, json = data)\n",
    "response.text"
   ]
  },
  {
   "cell_type": "code",
   "execution_count": null,
   "metadata": {},
   "outputs": [],
   "source": []
  },
  {
   "cell_type": "code",
   "execution_count": 3,
   "metadata": {},
   "outputs": [],
   "source": [
    "api_client = boto3.client('apigateway')"
   ]
  },
  {
   "cell_type": "code",
   "execution_count": 4,
   "metadata": {},
   "outputs": [],
   "source": [
    "rest_api = api_client.create_rest_api(\n",
    "    name='HFServerlessAPI'\n",
    ")"
   ]
  },
  {
   "cell_type": "code",
   "execution_count": 5,
   "metadata": {},
   "outputs": [
    {
     "data": {
      "text/plain": [
       "'zh182u0yi5'"
      ]
     },
     "execution_count": 5,
     "metadata": {},
     "output_type": "execute_result"
    }
   ],
   "source": [
    "rest_api_id = rest_api[\"id\"]\n",
    "rest_api_id"
   ]
  },
  {
   "cell_type": "code",
   "execution_count": 6,
   "metadata": {},
   "outputs": [
    {
     "data": {
      "text/plain": [
       "'w9kcmr69hg'"
      ]
     },
     "execution_count": 6,
     "metadata": {},
     "output_type": "execute_result"
    }
   ],
   "source": [
    "root_resource_id = api_client.get_resources(\n",
    "    restApiId=rest_api_id\n",
    ")['items'][0]['id']\n",
    "root_resource_id"
   ]
  },
  {
   "cell_type": "code",
   "execution_count": 8,
   "metadata": {},
   "outputs": [],
   "source": [
    "api_resource = api_client.create_resource(\n",
    "    restApiId=rest_api_id,\n",
    "    parentId=root_resource_id,\n",
    "    pathPart='hf-api-resource'\n",
    ")"
   ]
  },
  {
   "cell_type": "code",
   "execution_count": 9,
   "metadata": {},
   "outputs": [
    {
     "data": {
      "text/plain": [
       "'ph02er'"
      ]
     },
     "execution_count": 9,
     "metadata": {},
     "output_type": "execute_result"
    }
   ],
   "source": [
    "api_resource_id = api_resource['id']\n",
    "api_resource_id"
   ]
  },
  {
   "cell_type": "code",
   "execution_count": 10,
   "metadata": {},
   "outputs": [],
   "source": [
    "api_method = api_client.put_method(\n",
    "    restApiId=rest_api_id,\n",
    "    resourceId=api_resource_id,\n",
    "    httpMethod='POST',\n",
    "    authorizationType='NONE',\n",
    "    requestParameters={\n",
    "        'method.request.querystring.greeter': False\n",
    "    }\n",
    ")"
   ]
  },
  {
   "cell_type": "code",
   "execution_count": 27,
   "metadata": {},
   "outputs": [
    {
     "data": {
      "text/plain": [
       "{'ResponseMetadata': {'RequestId': '4412cf2c-69a1-447c-b302-f11117814d7f',\n",
       "  'HTTPStatusCode': 204,\n",
       "  'HTTPHeaders': {'date': 'Thu, 23 Dec 2021 18:44:29 GMT',\n",
       "   'content-type': 'application/json',\n",
       "   'connection': 'keep-alive',\n",
       "   'x-amzn-requestid': '4412cf2c-69a1-447c-b302-f11117814d7f',\n",
       "   'x-amz-apigw-id': 'K0N-FLzWIAMEd-g='},\n",
       "  'RetryAttempts': 0}}"
      ]
     },
     "execution_count": 27,
     "metadata": {},
     "output_type": "execute_result"
    }
   ],
   "source": [
    "# api_client.delete_method_response(\n",
    "#     restApiId=rest_api_id,\n",
    "#     resourceId=api_resource_id,\n",
    "#     httpMethod='POST',\n",
    "#     statusCode='200',\n",
    "# )"
   ]
  },
  {
   "cell_type": "code",
   "execution_count": 28,
   "metadata": {},
   "outputs": [],
   "source": [
    "put_method_res = api_client.put_method_response(\n",
    "    restApiId=rest_api_id,\n",
    "    resourceId=api_resource_id,\n",
    "    httpMethod='POST',\n",
    "    statusCode='200',\n",
    "    responseModels={\n",
    "        'application/json': 'Empty'\n",
    "    }\n",
    ")"
   ]
  },
  {
   "cell_type": "code",
   "execution_count": 19,
   "metadata": {},
   "outputs": [],
   "source": [
    "arn_uri=\"arn:aws:apigateway:us-east-1:lambda:path/2015-03-31/functions/arn:aws:lambda:us-east-1:905847418383:function:HFServerlessLambda/invocations\"\n",
    "api_integration = api_client.put_integration(\n",
    "    restApiId=rest_api_id,\n",
    "    resourceId=api_resource_id,\n",
    "    httpMethod='POST',\n",
    "    type='AWS',\n",
    "    integrationHttpMethod='POST',\n",
    "    uri=arn_uri,\n",
    ")"
   ]
  },
  {
   "cell_type": "code",
   "execution_count": 36,
   "metadata": {},
   "outputs": [
    {
     "data": {
      "text/plain": [
       "{'ResponseMetadata': {'RequestId': '6335ed53-8a3e-4d13-bf41-66118d65b302',\n",
       "  'HTTPStatusCode': 204,\n",
       "  'HTTPHeaders': {'date': 'Thu, 23 Dec 2021 18:53:27 GMT',\n",
       "   'content-type': 'application/json',\n",
       "   'connection': 'keep-alive',\n",
       "   'x-amzn-requestid': '6335ed53-8a3e-4d13-bf41-66118d65b302',\n",
       "   'x-amz-apigw-id': 'K0PSPLxsoAMEbww='},\n",
       "  'RetryAttempts': 0}}"
      ]
     },
     "execution_count": 36,
     "metadata": {},
     "output_type": "execute_result"
    }
   ],
   "source": [
    "api_client.delete_integration_response(\n",
    "    restApiId=rest_api_id,\n",
    "    resourceId=api_resource_id,\n",
    "    httpMethod='POST',\n",
    "    statusCode='200',\n",
    ")"
   ]
  },
  {
   "cell_type": "code",
   "execution_count": 37,
   "metadata": {},
   "outputs": [],
   "source": [
    "put_integration_response = api_client.put_integration_response(\n",
    "    restApiId=rest_api_id,\n",
    "    resourceId=api_resource_id,\n",
    "    httpMethod='POST',\n",
    "    statusCode='200',\n",
    "#     contentHandling='CONVERT_TO_TEXT',\n",
    "#     selectionPattern='',\n",
    ")"
   ]
  },
  {
   "cell_type": "code",
   "execution_count": 22,
   "metadata": {},
   "outputs": [],
   "source": [
    "deployment = api_client.create_deployment(\n",
    "    restApiId=rest_api_id,\n",
    "    stageName='dev',\n",
    ")"
   ]
  },
  {
   "cell_type": "code",
   "execution_count": null,
   "metadata": {},
   "outputs": [],
   "source": []
  }
 ],
 "metadata": {
  "instance_type": "ml.t3.medium",
  "kernelspec": {
   "display_name": "Python 3 (Data Science)",
   "language": "python",
   "name": "python3__SAGEMAKER_INTERNAL__arn:aws:sagemaker:us-east-1:081325390199:image/datascience-1.0"
  },
  "language_info": {
   "codemirror_mode": {
    "name": "ipython",
    "version": 3
   },
   "file_extension": ".py",
   "mimetype": "text/x-python",
   "name": "python",
   "nbconvert_exporter": "python",
   "pygments_lexer": "ipython3",
   "version": "3.7.10"
  }
 },
 "nbformat": 4,
 "nbformat_minor": 4
}
