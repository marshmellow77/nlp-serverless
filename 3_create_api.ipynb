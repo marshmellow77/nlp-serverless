{
 "cells": [
  {
   "cell_type": "code",
   "execution_count": 63,
   "metadata": {},
   "outputs": [],
   "source": [
    "import boto3"
   ]
  },
  {
   "cell_type": "code",
   "execution_count": 77,
   "metadata": {},
   "outputs": [],
   "source": [
    "api_client = boto3.client('apigatewayv2')"
   ]
  },
  {
   "cell_type": "code",
   "execution_count": 78,
   "metadata": {},
   "outputs": [
    {
     "name": "stdout",
     "output_type": "stream",
     "text": [
      "{'ResponseMetadata': {'RequestId': 'a81614bc-2ac5-4039-83d8-62ad28a775b4', 'HTTPStatusCode': 201, 'HTTPHeaders': {'date': 'Tue, 11 Jan 2022 15:43:26 GMT', 'content-type': 'application/json', 'content-length': '328', 'connection': 'keep-alive', 'x-amzn-requestid': 'a81614bc-2ac5-4039-83d8-62ad28a775b4', 'access-control-allow-origin': '*', 'x-amz-apigw-id': 'LybQsGrWIAMF8pQ=', 'access-control-expose-headers': 'x-amzn-RequestId,x-amzn-ErrorType,x-amzn-ErrorMessage,Date', 'x-amzn-trace-id': 'Root=1-61dda59d-445db7751302d0172253b4b7'}, 'RetryAttempts': 0}, 'ApiEndpoint': 'https://nluf71yp14.execute-api.us-east-1.amazonaws.com', 'ApiId': 'nluf71yp14', 'ApiKeySelectionExpression': '$request.header.x-api-key', 'CreatedDate': datetime.datetime(2022, 1, 11, 15, 43, 26, tzinfo=tzlocal()), 'DisableExecuteApiEndpoint': False, 'Name': 'HFServerlessHTTP8', 'ProtocolType': 'HTTP', 'RouteSelectionExpression': '$request.method $request.path'}\n"
     ]
    }
   ],
   "source": [
    "response = api_client.create_api(\n",
    "    Name='HFServerlessHTTP8',\n",
    "    ProtocolType='HTTP',\n",
    "    Target='arn:aws:lambda:us-east-1:905847418383:function:invoke-hf-sentiment-model',\n",
    "    RouteKey='ANY /test',\n",
    ")\n",
    "\n",
    "print(response)"
   ]
  },
  {
   "cell_type": "code",
   "execution_count": 80,
   "metadata": {},
   "outputs": [
    {
     "data": {
      "text/plain": [
       "'nluf71yp14'"
      ]
     },
     "execution_count": 80,
     "metadata": {},
     "output_type": "execute_result"
    }
   ],
   "source": [
    "api_id = response['ApiId']\n",
    "api_id"
   ]
  },
  {
   "cell_type": "code",
   "execution_count": 81,
   "metadata": {},
   "outputs": [],
   "source": [
    "lambda_client = boto3.client('lambda')"
   ]
  },
  {
   "cell_type": "code",
   "execution_count": 82,
   "metadata": {},
   "outputs": [
    {
     "data": {
      "text/plain": [
       "{'ResponseMetadata': {'RequestId': 'b72e2375-5050-4bc9-92ed-1ab396d32ac7',\n",
       "  'HTTPStatusCode': 201,\n",
       "  'HTTPHeaders': {'date': 'Tue, 11 Jan 2022 15:44:26 GMT',\n",
       "   'content-type': 'application/json',\n",
       "   'content-length': '364',\n",
       "   'connection': 'keep-alive',\n",
       "   'x-amzn-requestid': 'b72e2375-5050-4bc9-92ed-1ab396d32ac7'},\n",
       "  'RetryAttempts': 0},\n",
       " 'Statement': '{\"Sid\":\"MyStatementId8\",\"Effect\":\"Allow\",\"Principal\":{\"Service\":\"apigateway.amazonaws.com\"},\"Action\":\"lambda:InvokeFunction\",\"Resource\":\"arn:aws:lambda:us-east-1:905847418383:function:invoke-hf-sentiment-model\",\"Condition\":{\"ArnLike\":{\"AWS:SourceArn\":\"arn:aws:execute-api:us-east-1:905847418383:nluf71yp14/*/*/test\"}}}'}"
      ]
     },
     "execution_count": 82,
     "metadata": {},
     "output_type": "execute_result"
    }
   ],
   "source": [
    "lambda_client.add_permission(\n",
    "    FunctionName='invoke-hf-sentiment-model',\n",
    "    StatementId='MyStatementId8',\n",
    "    Action='lambda:InvokeFunction',\n",
    "    Principal='apigateway.amazonaws.com',\n",
    "    SourceArn=f'arn:aws:execute-api:us-east-1:905847418383:{api_id}/*/*/test',\n",
    ")"
   ]
  },
  {
   "cell_type": "code",
   "execution_count": 83,
   "metadata": {},
   "outputs": [],
   "source": [
    "import requests"
   ]
  },
  {
   "cell_type": "code",
   "execution_count": 95,
   "metadata": {},
   "outputs": [
    {
     "data": {
      "text/plain": [
       "'LABEL_1'"
      ]
     },
     "execution_count": 95,
     "metadata": {},
     "output_type": "execute_result"
    }
   ],
   "source": [
    "url = f'https://{api_id}.execute-api.us-east-1.amazonaws.com/test'\n",
    "data = r'This is a great test'\n",
    "\n",
    "response = requests.post(url, json = data)\n",
    "response.text"
   ]
  },
  {
   "cell_type": "code",
   "execution_count": null,
   "metadata": {},
   "outputs": [],
   "source": []
  }
 ],
 "metadata": {
  "instance_type": "ml.t3.medium",
  "kernelspec": {
   "display_name": "Python 3 (Data Science)",
   "language": "python",
   "name": "python3__SAGEMAKER_INTERNAL__arn:aws:sagemaker:us-east-1:081325390199:image/datascience-1.0"
  },
  "language_info": {
   "codemirror_mode": {
    "name": "ipython",
    "version": 3
   },
   "file_extension": ".py",
   "mimetype": "text/x-python",
   "name": "python",
   "nbconvert_exporter": "python",
   "pygments_lexer": "ipython3",
   "version": "3.7.10"
  }
 },
 "nbformat": 4,
 "nbformat_minor": 4
}
