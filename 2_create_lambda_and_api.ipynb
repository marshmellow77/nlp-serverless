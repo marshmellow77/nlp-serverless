{
 "cells": [
  {
   "cell_type": "code",
   "execution_count": 68,
   "metadata": {},
   "outputs": [],
   "source": [
    "import boto3\n",
    "import json"
   ]
  },
  {
   "cell_type": "markdown",
   "metadata": {},
   "source": [
    "## Create IAM role for Lambda function and attach Sagemaker priviliges to it"
   ]
  },
  {
   "cell_type": "code",
   "execution_count": 69,
   "metadata": {},
   "outputs": [],
   "source": [
    "iam_client = boto3.client('iam')"
   ]
  },
  {
   "cell_type": "code",
   "execution_count": 70,
   "metadata": {},
   "outputs": [],
   "source": [
    "role_policy = {\n",
    "  \"Version\": \"2012-10-17\",\n",
    "  \"Statement\": [\n",
    "    {\n",
    "      \"Sid\": \"\",\n",
    "      \"Effect\": \"Allow\",\n",
    "      \"Principal\": {\n",
    "        \"Service\": \"lambda.amazonaws.com\"\n",
    "      },\n",
    "      \"Action\": \"sts:AssumeRole\"\n",
    "    }\n",
    "  ]\n",
    "}"
   ]
  },
  {
   "cell_type": "code",
   "execution_count": 71,
   "metadata": {},
   "outputs": [],
   "source": [
    "iam_rolename = \"LambdaHFServerlessRole\""
   ]
  },
  {
   "cell_type": "code",
   "execution_count": 72,
   "metadata": {},
   "outputs": [],
   "source": [
    "response = iam_client.create_role(\n",
    "  RoleName=iam_rolename,\n",
    "  AssumeRolePolicyDocument=json.dumps(role_policy),\n",
    ")"
   ]
  },
  {
   "cell_type": "code",
   "execution_count": 73,
   "metadata": {},
   "outputs": [],
   "source": [
    "response = iam_client.attach_role_policy(RoleName=iam_rolename, PolicyArn='arn:aws:iam::aws:policy/AmazonSageMakerFullAccess')"
   ]
  },
  {
   "cell_type": "markdown",
   "metadata": {},
   "source": [
    "## Create Lambda function"
   ]
  },
  {
   "cell_type": "code",
   "execution_count": 74,
   "metadata": {},
   "outputs": [],
   "source": [
    "endpoint_name = \"hf-serverless-ep2021-12-23-10-42-53\"\n",
    "\n",
    "lambda_code = f\"\"\"\n",
    "import boto3\n",
    "import json\n",
    "\n",
    "ENDPOINT_NAME = \"{endpoint_name}\"\n",
    "runtime= boto3.client('runtime.sagemaker')\n",
    "\n",
    "def lambda_handler(event, context):\n",
    "    print(\"Received event: \" + json.dumps(event['body'], indent=4))\n",
    "    \n",
    "    payload = {{\"inputs\": event['body']}}\n",
    "    response = runtime.invoke_endpoint(EndpointName=ENDPOINT_NAME,\n",
    "                                       ContentType='application/json',\n",
    "                                       Body=json.dumps(payload))\n",
    "    result = json.loads(response['Body'].read().decode())\n",
    "    pred = result[0]['label']\n",
    "    score = result[0]['score']\n",
    "    \n",
    "    if pred == \"LABEL_0\":\n",
    "        final_result = f\"Negative sentiment, Probability: {{round(score * 100, 1)}}%\"\n",
    "    else:\n",
    "        final_result = f\"Positive sentiment, Probability: {{round(score * 100, 1)}}%\"\n",
    "\n",
    "    return final_result\n",
    "\"\"\""
   ]
  },
  {
   "cell_type": "code",
   "execution_count": 75,
   "metadata": {},
   "outputs": [],
   "source": [
    "filename = \"lambda\""
   ]
  },
  {
   "cell_type": "code",
   "execution_count": 76,
   "metadata": {},
   "outputs": [],
   "source": [
    "with open(f\"{filename}.py\", \"w\") as f:\n",
    "    f.write(lambda_code)"
   ]
  },
  {
   "cell_type": "code",
   "execution_count": 77,
   "metadata": {},
   "outputs": [],
   "source": [
    "from zipfile import ZipFile"
   ]
  },
  {
   "cell_type": "code",
   "execution_count": 78,
   "metadata": {},
   "outputs": [],
   "source": [
    "with ZipFile('lambda.zip', 'w') as myzip:\n",
    "    myzip.write('lambda.py')"
   ]
  },
  {
   "cell_type": "code",
   "execution_count": 79,
   "metadata": {},
   "outputs": [],
   "source": [
    "lambda_function_name = \"HFServerlessLambdaFunction\""
   ]
  },
  {
   "cell_type": "code",
   "execution_count": 82,
   "metadata": {},
   "outputs": [],
   "source": [
    "lambda_client = boto3.client('lambda')\n",
    "\n",
    "with open('lambda.zip', 'rb') as f:\n",
    "    zipped_code = f.read()\n",
    "  \n",
    "role = iam_client.get_role(RoleName=iam_rolename)\n",
    "\n",
    "response = lambda_client.create_function(\n",
    "    FunctionName=lambda_function_name,\n",
    "    Runtime='python3.9',\n",
    "    Role=role['Role']['Arn'],\n",
    "    Handler=f'{filename}.lambda_handler',\n",
    "    Code=dict(ZipFile=zipped_code),\n",
    "    Timeout=300,\n",
    ")"
   ]
  },
  {
   "cell_type": "code",
   "execution_count": 83,
   "metadata": {},
   "outputs": [
    {
     "data": {
      "text/plain": [
       "'arn:aws:lambda:us-east-1:905847418383:function:HFServerlessLambdaFunction'"
      ]
     },
     "execution_count": 83,
     "metadata": {},
     "output_type": "execute_result"
    }
   ],
   "source": [
    "lambda_arn = response['FunctionArn']\n",
    "lambda_arn"
   ]
  },
  {
   "cell_type": "markdown",
   "metadata": {},
   "source": [
    "## Create HTTP API"
   ]
  },
  {
   "cell_type": "code",
   "execution_count": 87,
   "metadata": {},
   "outputs": [],
   "source": [
    "api_client = boto3.client('apigatewayv2')"
   ]
  },
  {
   "cell_type": "code",
   "execution_count": 88,
   "metadata": {},
   "outputs": [],
   "source": [
    "api_name = \"HFServerlessAPI\""
   ]
  },
  {
   "cell_type": "code",
   "execution_count": 89,
   "metadata": {},
   "outputs": [],
   "source": [
    "response = api_client.create_api(\n",
    "    Name=api_name,\n",
    "    ProtocolType='HTTP',\n",
    "    Target=lambda_arn,\n",
    "    RouteKey='ANY /test',\n",
    ")"
   ]
  },
  {
   "cell_type": "code",
   "execution_count": 90,
   "metadata": {},
   "outputs": [
    {
     "data": {
      "text/plain": [
       "'93llsq9a65'"
      ]
     },
     "execution_count": 90,
     "metadata": {},
     "output_type": "execute_result"
    }
   ],
   "source": [
    "api_id = response['ApiId']\n",
    "api_id"
   ]
  },
  {
   "cell_type": "code",
   "execution_count": 91,
   "metadata": {},
   "outputs": [],
   "source": [
    "response = lambda_client.add_permission(\n",
    "    FunctionName=lambda_function_name,\n",
    "    StatementId='HFServerlessStatementID',\n",
    "    Action='lambda:InvokeFunction',\n",
    "    Principal='apigateway.amazonaws.com',\n",
    "    SourceArn=f'arn:aws:execute-api:us-east-1:905847418383:{api_id}/*/*/test',\n",
    ")"
   ]
  },
  {
   "cell_type": "markdown",
   "metadata": {},
   "source": [
    "### Test API"
   ]
  },
  {
   "cell_type": "code",
   "execution_count": 92,
   "metadata": {},
   "outputs": [],
   "source": [
    "import requests"
   ]
  },
  {
   "cell_type": "code",
   "execution_count": 93,
   "metadata": {},
   "outputs": [
    {
     "data": {
      "text/plain": [
       "'Positive sentiment, Probability: 98.6%'"
      ]
     },
     "execution_count": 93,
     "metadata": {},
     "output_type": "execute_result"
    }
   ],
   "source": [
    "url = f'https://{api_id}.execute-api.us-east-1.amazonaws.com/test'\n",
    "data = 'This is a great test'\n",
    "\n",
    "response = requests.post(url, json = data)\n",
    "response.text"
   ]
  },
  {
   "cell_type": "markdown",
   "metadata": {},
   "source": [
    "## Cleanup"
   ]
  },
  {
   "cell_type": "code",
   "execution_count": null,
   "metadata": {},
   "outputs": [],
   "source": [
    "# iam_client.detach_role_policy(RoleName=iam_rolename, PolicyArn='arn:aws:iam::aws:policy/AmazonSageMakerFullAccess')\n",
    "# iam_client.delete_role(RoleName=iam_rolename)\n",
    "# lambda_client.delete_function(FunctionName=lambda_function_name)\n",
    "# api_client.delete_api(ApiId=api_id)"
   ]
  }
 ],
 "metadata": {
  "instance_type": "ml.t3.medium",
  "kernelspec": {
   "display_name": "Python 3 (Data Science)",
   "language": "python",
   "name": "python3__SAGEMAKER_INTERNAL__arn:aws:sagemaker:us-east-1:081325390199:image/datascience-1.0"
  },
  "language_info": {
   "codemirror_mode": {
    "name": "ipython",
    "version": 3
   },
   "file_extension": ".py",
   "mimetype": "text/x-python",
   "name": "python",
   "nbconvert_exporter": "python",
   "pygments_lexer": "ipython3",
   "version": "3.7.10"
  }
 },
 "nbformat": 4,
 "nbformat_minor": 4
}
